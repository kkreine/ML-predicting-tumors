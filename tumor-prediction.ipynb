{
 "cells": [
  {
   "cell_type": "code",
   "execution_count": 111,
   "metadata": {},
   "outputs": [],
   "source": [
    "# import libraries\n",
    "import numpy as np\n",
    "import pandas as pd\n",
    "import matplotlib.pyplot as plt"
   ]
  },
  {
   "cell_type": "code",
   "execution_count": 112,
   "metadata": {},
   "outputs": [
    {
     "data": {
      "text/html": [
       "<div>\n",
       "<style scoped>\n",
       "    .dataframe tbody tr th:only-of-type {\n",
       "        vertical-align: middle;\n",
       "    }\n",
       "\n",
       "    .dataframe tbody tr th {\n",
       "        vertical-align: top;\n",
       "    }\n",
       "\n",
       "    .dataframe thead th {\n",
       "        text-align: right;\n",
       "    }\n",
       "</style>\n",
       "<table border=\"1\" class=\"dataframe\">\n",
       "  <thead>\n",
       "    <tr style=\"text-align: right;\">\n",
       "      <th></th>\n",
       "      <th>id</th>\n",
       "      <th>diagnosis</th>\n",
       "      <th>radius_mean</th>\n",
       "      <th>texture_mean</th>\n",
       "      <th>perimeter_mean</th>\n",
       "      <th>area_mean</th>\n",
       "      <th>smoothness_mean</th>\n",
       "      <th>compactness_mean</th>\n",
       "      <th>concavity_mean</th>\n",
       "      <th>concave points_mean</th>\n",
       "      <th>...</th>\n",
       "      <th>texture_worst</th>\n",
       "      <th>perimeter_worst</th>\n",
       "      <th>area_worst</th>\n",
       "      <th>smoothness_worst</th>\n",
       "      <th>compactness_worst</th>\n",
       "      <th>concavity_worst</th>\n",
       "      <th>concave points_worst</th>\n",
       "      <th>symmetry_worst</th>\n",
       "      <th>fractal_dimension_worst</th>\n",
       "      <th>Unnamed: 32</th>\n",
       "    </tr>\n",
       "  </thead>\n",
       "  <tbody>\n",
       "    <tr>\n",
       "      <th>0</th>\n",
       "      <td>842302</td>\n",
       "      <td>M</td>\n",
       "      <td>17.99</td>\n",
       "      <td>10.38</td>\n",
       "      <td>122.80</td>\n",
       "      <td>1001.0</td>\n",
       "      <td>0.11840</td>\n",
       "      <td>0.27760</td>\n",
       "      <td>0.3001</td>\n",
       "      <td>0.14710</td>\n",
       "      <td>...</td>\n",
       "      <td>17.33</td>\n",
       "      <td>184.60</td>\n",
       "      <td>2019.0</td>\n",
       "      <td>0.1622</td>\n",
       "      <td>0.6656</td>\n",
       "      <td>0.7119</td>\n",
       "      <td>0.2654</td>\n",
       "      <td>0.4601</td>\n",
       "      <td>0.11890</td>\n",
       "      <td>NaN</td>\n",
       "    </tr>\n",
       "    <tr>\n",
       "      <th>1</th>\n",
       "      <td>842517</td>\n",
       "      <td>M</td>\n",
       "      <td>20.57</td>\n",
       "      <td>17.77</td>\n",
       "      <td>132.90</td>\n",
       "      <td>1326.0</td>\n",
       "      <td>0.08474</td>\n",
       "      <td>0.07864</td>\n",
       "      <td>0.0869</td>\n",
       "      <td>0.07017</td>\n",
       "      <td>...</td>\n",
       "      <td>23.41</td>\n",
       "      <td>158.80</td>\n",
       "      <td>1956.0</td>\n",
       "      <td>0.1238</td>\n",
       "      <td>0.1866</td>\n",
       "      <td>0.2416</td>\n",
       "      <td>0.1860</td>\n",
       "      <td>0.2750</td>\n",
       "      <td>0.08902</td>\n",
       "      <td>NaN</td>\n",
       "    </tr>\n",
       "    <tr>\n",
       "      <th>2</th>\n",
       "      <td>84300903</td>\n",
       "      <td>M</td>\n",
       "      <td>19.69</td>\n",
       "      <td>21.25</td>\n",
       "      <td>130.00</td>\n",
       "      <td>1203.0</td>\n",
       "      <td>0.10960</td>\n",
       "      <td>0.15990</td>\n",
       "      <td>0.1974</td>\n",
       "      <td>0.12790</td>\n",
       "      <td>...</td>\n",
       "      <td>25.53</td>\n",
       "      <td>152.50</td>\n",
       "      <td>1709.0</td>\n",
       "      <td>0.1444</td>\n",
       "      <td>0.4245</td>\n",
       "      <td>0.4504</td>\n",
       "      <td>0.2430</td>\n",
       "      <td>0.3613</td>\n",
       "      <td>0.08758</td>\n",
       "      <td>NaN</td>\n",
       "    </tr>\n",
       "    <tr>\n",
       "      <th>3</th>\n",
       "      <td>84348301</td>\n",
       "      <td>M</td>\n",
       "      <td>11.42</td>\n",
       "      <td>20.38</td>\n",
       "      <td>77.58</td>\n",
       "      <td>386.1</td>\n",
       "      <td>0.14250</td>\n",
       "      <td>0.28390</td>\n",
       "      <td>0.2414</td>\n",
       "      <td>0.10520</td>\n",
       "      <td>...</td>\n",
       "      <td>26.50</td>\n",
       "      <td>98.87</td>\n",
       "      <td>567.7</td>\n",
       "      <td>0.2098</td>\n",
       "      <td>0.8663</td>\n",
       "      <td>0.6869</td>\n",
       "      <td>0.2575</td>\n",
       "      <td>0.6638</td>\n",
       "      <td>0.17300</td>\n",
       "      <td>NaN</td>\n",
       "    </tr>\n",
       "    <tr>\n",
       "      <th>4</th>\n",
       "      <td>84358402</td>\n",
       "      <td>M</td>\n",
       "      <td>20.29</td>\n",
       "      <td>14.34</td>\n",
       "      <td>135.10</td>\n",
       "      <td>1297.0</td>\n",
       "      <td>0.10030</td>\n",
       "      <td>0.13280</td>\n",
       "      <td>0.1980</td>\n",
       "      <td>0.10430</td>\n",
       "      <td>...</td>\n",
       "      <td>16.67</td>\n",
       "      <td>152.20</td>\n",
       "      <td>1575.0</td>\n",
       "      <td>0.1374</td>\n",
       "      <td>0.2050</td>\n",
       "      <td>0.4000</td>\n",
       "      <td>0.1625</td>\n",
       "      <td>0.2364</td>\n",
       "      <td>0.07678</td>\n",
       "      <td>NaN</td>\n",
       "    </tr>\n",
       "  </tbody>\n",
       "</table>\n",
       "<p>5 rows × 33 columns</p>\n",
       "</div>"
      ],
      "text/plain": [
       "         id diagnosis  radius_mean  texture_mean  perimeter_mean  area_mean  \\\n",
       "0    842302         M        17.99         10.38          122.80     1001.0   \n",
       "1    842517         M        20.57         17.77          132.90     1326.0   \n",
       "2  84300903         M        19.69         21.25          130.00     1203.0   \n",
       "3  84348301         M        11.42         20.38           77.58      386.1   \n",
       "4  84358402         M        20.29         14.34          135.10     1297.0   \n",
       "\n",
       "   smoothness_mean  compactness_mean  concavity_mean  concave points_mean  \\\n",
       "0          0.11840           0.27760          0.3001              0.14710   \n",
       "1          0.08474           0.07864          0.0869              0.07017   \n",
       "2          0.10960           0.15990          0.1974              0.12790   \n",
       "3          0.14250           0.28390          0.2414              0.10520   \n",
       "4          0.10030           0.13280          0.1980              0.10430   \n",
       "\n",
       "   ...  texture_worst  perimeter_worst  area_worst  smoothness_worst  \\\n",
       "0  ...          17.33           184.60      2019.0            0.1622   \n",
       "1  ...          23.41           158.80      1956.0            0.1238   \n",
       "2  ...          25.53           152.50      1709.0            0.1444   \n",
       "3  ...          26.50            98.87       567.7            0.2098   \n",
       "4  ...          16.67           152.20      1575.0            0.1374   \n",
       "\n",
       "   compactness_worst  concavity_worst  concave points_worst  symmetry_worst  \\\n",
       "0             0.6656           0.7119                0.2654          0.4601   \n",
       "1             0.1866           0.2416                0.1860          0.2750   \n",
       "2             0.4245           0.4504                0.2430          0.3613   \n",
       "3             0.8663           0.6869                0.2575          0.6638   \n",
       "4             0.2050           0.4000                0.1625          0.2364   \n",
       "\n",
       "   fractal_dimension_worst  Unnamed: 32  \n",
       "0                  0.11890          NaN  \n",
       "1                  0.08902          NaN  \n",
       "2                  0.08758          NaN  \n",
       "3                  0.17300          NaN  \n",
       "4                  0.07678          NaN  \n",
       "\n",
       "[5 rows x 33 columns]"
      ]
     },
     "execution_count": 112,
     "metadata": {},
     "output_type": "execute_result"
    }
   ],
   "source": [
    "# Read data set data.csv\n",
    "data=pd.read_csv('data.csv')\n",
    "data.head()"
   ]
  },
  {
   "cell_type": "markdown",
   "metadata": {},
   "source": [
    "## Variable Description\n",
    "Diagnosis: (M = malignant, B = benign)<br/>\n",
    "Ten real-valued features are computed for each cell nucleus<br/>\n",
    "radius (mean of distances from center to points on the perimeter)<br/>\n",
    "texture (standard deviation of gray-scale values)<br/>\n",
    "\n",
    "perimeter<br/>\n",
    "area<br/>\n",
    "\n",
    "smoothness (local variation in radius lengths)<br/>\n",
    "compactness (perimeter^2 / area - 1.0)<br/>\n",
    "concavity (severity of concave portions of the contour)<br/>\n",
    "concave points (number of concave portions of the contour)<br/>\n",
    "\n",
    "symmetry<br/>\n",
    "\n",
    "fractal dimension (\"coastline approximation\" - 1)<br/>"
   ]
  },
  {
   "cell_type": "code",
   "execution_count": 113,
   "metadata": {},
   "outputs": [],
   "source": [
    "# remove unnecessary columns from the data set\n",
    "data.drop(['Unnamed: 32','id'], inplace = True, axis = 1)"
   ]
  },
  {
   "cell_type": "code",
   "execution_count": 114,
   "metadata": {},
   "outputs": [
    {
     "name": "stdout",
     "output_type": "stream",
     "text": [
      "<class 'pandas.core.frame.DataFrame'>\n",
      "RangeIndex: 569 entries, 0 to 568\n",
      "Data columns (total 31 columns):\n",
      " #   Column                   Non-Null Count  Dtype  \n",
      "---  ------                   --------------  -----  \n",
      " 0   diagnosis                569 non-null    object \n",
      " 1   radius_mean              569 non-null    float64\n",
      " 2   texture_mean             569 non-null    float64\n",
      " 3   perimeter_mean           569 non-null    float64\n",
      " 4   area_mean                569 non-null    float64\n",
      " 5   smoothness_mean          569 non-null    float64\n",
      " 6   compactness_mean         569 non-null    float64\n",
      " 7   concavity_mean           569 non-null    float64\n",
      " 8   concave points_mean      569 non-null    float64\n",
      " 9   symmetry_mean            569 non-null    float64\n",
      " 10  fractal_dimension_mean   569 non-null    float64\n",
      " 11  radius_se                569 non-null    float64\n",
      " 12  texture_se               569 non-null    float64\n",
      " 13  perimeter_se             569 non-null    float64\n",
      " 14  area_se                  569 non-null    float64\n",
      " 15  smoothness_se            569 non-null    float64\n",
      " 16  compactness_se           569 non-null    float64\n",
      " 17  concavity_se             569 non-null    float64\n",
      " 18  concave points_se        569 non-null    float64\n",
      " 19  symmetry_se              569 non-null    float64\n",
      " 20  fractal_dimension_se     569 non-null    float64\n",
      " 21  radius_worst             569 non-null    float64\n",
      " 22  texture_worst            569 non-null    float64\n",
      " 23  perimeter_worst          569 non-null    float64\n",
      " 24  area_worst               569 non-null    float64\n",
      " 25  smoothness_worst         569 non-null    float64\n",
      " 26  compactness_worst        569 non-null    float64\n",
      " 27  concavity_worst          569 non-null    float64\n",
      " 28  concave points_worst     569 non-null    float64\n",
      " 29  symmetry_worst           569 non-null    float64\n",
      " 30  fractal_dimension_worst  569 non-null    float64\n",
      "dtypes: float64(30), object(1)\n",
      "memory usage: 137.9+ KB\n"
     ]
    },
    {
     "data": {
      "text/plain": [
       "diagnosis                  0\n",
       "radius_mean                0\n",
       "texture_mean               0\n",
       "perimeter_mean             0\n",
       "area_mean                  0\n",
       "smoothness_mean            0\n",
       "compactness_mean           0\n",
       "concavity_mean             0\n",
       "concave points_mean        0\n",
       "symmetry_mean              0\n",
       "fractal_dimension_mean     0\n",
       "radius_se                  0\n",
       "texture_se                 0\n",
       "perimeter_se               0\n",
       "area_se                    0\n",
       "smoothness_se              0\n",
       "compactness_se             0\n",
       "concavity_se               0\n",
       "concave points_se          0\n",
       "symmetry_se                0\n",
       "fractal_dimension_se       0\n",
       "radius_worst               0\n",
       "texture_worst              0\n",
       "perimeter_worst            0\n",
       "area_worst                 0\n",
       "smoothness_worst           0\n",
       "compactness_worst          0\n",
       "concavity_worst            0\n",
       "concave points_worst       0\n",
       "symmetry_worst             0\n",
       "fractal_dimension_worst    0\n",
       "dtype: int64"
      ]
     },
     "execution_count": 114,
     "metadata": {},
     "output_type": "execute_result"
    }
   ],
   "source": [
    "# Check for missing values\n",
    "data.info()\n",
    "data.isna().sum()\n",
    "#no missing values"
   ]
  },
  {
   "cell_type": "code",
   "execution_count": 115,
   "metadata": {},
   "outputs": [],
   "source": [
    "# replace 'M' with 0 and 'B' with 1 in the diagnosis column\n",
    "data[\"diagnosis\"] = [1 if i.strip() == \"M\" else 0 for i in data[\"diagnosis\"]] \n"
   ]
  },
  {
   "cell_type": "code",
   "execution_count": 116,
   "metadata": {},
   "outputs": [],
   "source": [
    "# Extract from data feature vector X and output label y\n",
    "y = data.values[:, 0]\n",
    "X = data.values[:, 1:]"
   ]
  },
  {
   "cell_type": "code",
   "execution_count": 117,
   "metadata": {},
   "outputs": [],
   "source": [
    "# Split data into X_train, X_test, y_train, y_test\n",
    "from sklearn.model_selection import train_test_split\n",
    "X_train, X_test, y_train, y_test = train_test_split(X, y, random_state=0, test_size=0.2)"
   ]
  },
  {
   "cell_type": "code",
   "execution_count": 118,
   "metadata": {},
   "outputs": [
    {
     "name": "stdout",
     "output_type": "stream",
     "text": [
      "X_train.shape= (455, 30)\n",
      "X_test.shape= (114, 30)\n",
      "x_train.shape[0]+x_test.shape[0]= 569\n"
     ]
    }
   ],
   "source": [
    "print('X_train.shape=', X_train.shape)\n",
    "print('X_test.shape=', X_test.shape)\n",
    "print('x_train.shape[0]+x_test.shape[0]=', X_train.shape[0] + X_test.shape[0])"
   ]
  },
  {
   "cell_type": "code",
   "execution_count": 119,
   "metadata": {},
   "outputs": [
    {
     "name": "stdout",
     "output_type": "stream",
     "text": [
      "K= 1  test_score= 0.637980311209908   train_test= 1.0\n",
      "K= 2  test_score= 0.7465862178469356   train_test= 0.902533960292581\n",
      "K= 3  test_score= 0.7304964539007093   train_test= 0.8806107047486358\n",
      "K= 4  test_score= 0.7556367100666879   train_test= 0.8561781609195402\n",
      "K= 5  test_score= 0.7755477929501429   train_test= 0.8463364681295715\n",
      "K= 6  test_score= 0.7938498994389753   train_test= 0.8333304307442239\n",
      "K= 7  test_score= 0.7983033162455202   train_test= 0.8212718316166592\n",
      "K= 8  test_score= 0.8054144172753255   train_test= 0.8139824973876698\n",
      "K= 9  test_score= 0.821671782929325   train_test= 0.8060657662190229\n",
      "K= 10  test_score= 0.815007939028263   train_test= 0.8078254963427377\n",
      "K= 11  test_score= 0.8252731419393275   train_test= 0.8061288288988488\n",
      "K= 12  test_score= 0.8308060760029639   train_test= 0.8041434459537907\n",
      "K= 13  test_score= 0.835270330958828   train_test= 0.8035768828872277\n",
      "K= 14  test_score= 0.8326582458960085   train_test= 0.8015748619196895\n",
      "K= 15  test_score= 0.8320228644013973   train_test= 0.7965944502496227\n",
      "K= 16  test_score= 0.8338386194029851   train_test= 0.7942589962121211\n",
      "K= 17  test_score= 0.8426654916538562   train_test= 0.7882710893688104\n",
      "K= 18  test_score= 0.8402197052562248   train_test= 0.7855512339228814\n",
      "K= 19  test_score= 0.8333305477093814   train_test= 0.7856945614324542\n",
      "K= 20  test_score= 0.8281311527469037   train_test= 0.7831737199582027\n",
      "K= 21  test_score= 0.8294977565494284   train_test= 0.7808860360584499\n",
      "K= 22  test_score= 0.8279658503683447   train_test= 0.7765216283668834\n",
      "K= 23  test_score= 0.824738672402377   train_test= 0.7738180316956147\n",
      "K= 24  test_score= 0.8236411029956601   train_test= 0.7723976474515267\n",
      "K= 25  test_score= 0.8225234677675453   train_test= 0.7688504911180774\n",
      "K= 26  test_score= 0.8235421783190305   train_test= 0.7675247166626478\n",
      "K= 27  test_score= 0.8200330106755427   train_test= 0.7650953984287318\n",
      "K= 28  test_score= 0.8146034374372169   train_test= 0.762847999701448\n",
      "K= 29  test_score= 0.8102087029874535   train_test= 0.7627528306973959\n",
      "K= 30  test_score= 0.8086927066793691   train_test= 0.7582313944038082\n",
      "K= 31  test_score= 0.8068223762626856   train_test= 0.7585674100798433\n",
      "K= 32  test_score= 0.80753562638933   train_test= 0.7560470341888714\n",
      "K= 33  test_score= 0.8077539154937463   train_test= 0.7536247820659334\n",
      "K= 34  test_score= 0.8080293518786104   train_test= 0.7504412035882028\n",
      "K= 35  test_score= 0.8044798154256939   train_test= 0.7490431407672786\n",
      "K= 36  test_score= 0.8009450384013739   train_test= 0.747280919024214\n",
      "K= 37  test_score= 0.8023568185524362   train_test= 0.7454967549096161\n",
      "K= 38  test_score= 0.7986829569955374   train_test= 0.7447023246120581\n",
      "K= 39  test_score= 0.8004250433593082   train_test= 0.7435102573033607\n",
      "K= 40  test_score= 0.7988075579549063   train_test= 0.7414297283176594\n",
      "K= 41  test_score= 0.7979495109917523   train_test= 0.741862987710082\n",
      "K= 42  test_score= 0.7961279144874844   train_test= 0.7398264251712527\n",
      "K= 43  test_score= 0.7922645268759937   train_test= 0.7398248537858019\n",
      "K= 44  test_score= 0.7879118124867137   train_test= 0.7384369845505496\n",
      "K= 45  test_score= 0.7866676075885348   train_test= 0.736939716449295\n",
      "K= 46  test_score= 0.7844135114156924   train_test= 0.7366587951083747\n",
      "K= 47  test_score= 0.7796416145101142   train_test= 0.7341387210012427\n",
      "K= 48  test_score= 0.7780901013549275   train_test= 0.732566823043655\n",
      "K= 49  test_score= 0.7808129855917714   train_test= 0.7313077492528584\n",
      "max test score:  0.8426654916538562   train score:  0.7882710893688104    for K= 17\n"
     ]
    }
   ],
   "source": [
    "# Apply knn and evaluate clasifier by displaying the score; find best classifier\n",
    "from sklearn.neighbors import KNeighborsRegressor\n",
    "\n",
    "test_scores = []\n",
    "train_scores = []\n",
    "K = []\n",
    "\n",
    "for k in range(1, 50):\n",
    "    knn = KNeighborsRegressor(n_neighbors=k)\n",
    "    knn.fit(X_train, y_train)\n",
    "    K.append(k)\n",
    "    test_scores.append(knn.score(X_test, y_test))\n",
    "    train_scores.append(knn.score(X_train, y_train))\n",
    "    print('K=', K[k-1], ' test_score=', test_scores[k-1], '  train_test=', train_scores[k-1])\n",
    "\n",
    "m = max(test_scores)\n",
    "i = test_scores.index(m)\n",
    "print('max test score: ', m, '  train score: ', train_scores[i], '   for K=', K[i])"
   ]
  },
  {
   "cell_type": "markdown",
   "metadata": {},
   "source": [
    "# Decision tree"
   ]
  },
  {
   "cell_type": "code",
   "execution_count": 120,
   "metadata": {},
   "outputs": [
    {
     "name": "stdout",
     "output_type": "stream",
     "text": [
      "Accuracy of Decision Tree (X_train):  100.0 %\n",
      "Accuracy of Decision Tree (X_test):  91.22807017543859 %\n"
     ]
    }
   ],
   "source": [
    "from sklearn.tree import DecisionTreeClassifier\n",
    "from sklearn import tree\n",
    "\n",
    "clf = DecisionTreeClassifier(criterion = 'gini')\n",
    "#chose gini over entropy\n",
    "clf = clf.fit(X_train, y_train)\n",
    "\n",
    "clf.get_depth()\n",
    "\n",
    "y_pred = clf.predict(X_train)\n",
    "\n",
    "from sklearn.metrics import accuracy_score\n",
    "print(\"Accuracy of Decision Tree (X_train): \", accuracy_score(y_train, y_pred)*100, \"%\")\n",
    "\n",
    "y_pred = clf.predict(X_test)\n",
    "print(\"Accuracy of Decision Tree (X_test): \", accuracy_score(y_test, y_pred)*100, \"%\")"
   ]
  },
  {
   "cell_type": "code",
   "execution_count": 121,
   "metadata": {},
   "outputs": [
    {
     "name": "stdout",
     "output_type": "stream",
     "text": [
      "Accuracy of Decision Tree (test):  97.36842105263158 %\n",
      "Accuracy of Decision Tree (train):  97.58241758241758 %\n"
     ]
    }
   ],
   "source": [
    "from sklearn.tree import DecisionTreeClassifier\n",
    "\n",
    "clf = DecisionTreeClassifier(criterion = 'gini', max_depth=5, min_samples_leaf=3,\n",
    "                            max_features='auto', random_state=2)\n",
    "#chose gini over entropy\n",
    "\n",
    "clg = clf.fit(X_train, y_train)\n",
    "\n",
    "clf.get_depth()\n",
    "\n",
    "y_pred = clf.predict(X_test)\n",
    "\n",
    "from sklearn.metrics import accuracy_score\n",
    "print(\"Accuracy of Decision Tree (test): \", accuracy_score(y_test, y_pred)*100, \"%\")\n",
    "\n",
    "y_pred = clf.predict(X_train)\n",
    "print(\"Accuracy of Decision Tree (train): \", accuracy_score(y_train, y_pred)*100, \"%\")"
   ]
  },
  {
   "cell_type": "markdown",
   "metadata": {},
   "source": [
    "# Random Forest"
   ]
  },
  {
   "cell_type": "code",
   "execution_count": 138,
   "metadata": {},
   "outputs": [
    {
     "name": "stdout",
     "output_type": "stream",
     "text": [
      "Accuracy of Random Forest:  96.49122807017544 %\n"
     ]
    }
   ],
   "source": [
    "from sklearn.ensemble import RandomForestClassifier\n",
    "from sklearn.datasets import make_classification\n",
    "\n",
    "forest_clf = RandomForestClassifier(max_depth=10, random_state=0) #past 10, the % stays same\n",
    "\n",
    "forest_clf.fit(X_train, y_train)\n",
    "\n",
    "print(\"Accuracy of Random Forest: \", forest_clf.score(X_test, y_test)*100, \"%\") "
   ]
  },
  {
   "cell_type": "markdown",
   "metadata": {},
   "source": [
    "# Bagging"
   ]
  },
  {
   "cell_type": "code",
   "execution_count": 152,
   "metadata": {},
   "outputs": [
    {
     "name": "stdout",
     "output_type": "stream",
     "text": [
      "Score =  96.49122807017544 %\n"
     ]
    }
   ],
   "source": [
    "from sklearn.ensemble import BaggingClassifier\n",
    "from sklearn.neighbors import KNeighborsClassifier\n",
    "\n",
    "m = KNeighborsClassifier(n_neighbors=10)#change this\n",
    "b = BaggingClassifier(m, n_estimators=80) #change up these numbers\n",
    "\n",
    "b.fit(X_train, y_train)\n",
    "\n",
    "print(\"Score = \", b.score(X_test, y_test)*100, \"%\") #%%"
   ]
  }
 ],
 "metadata": {
  "kernelspec": {
   "display_name": "Python 3",
   "language": "python",
   "name": "python3"
  },
  "language_info": {
   "codemirror_mode": {
    "name": "ipython",
    "version": 3
   },
   "file_extension": ".py",
   "mimetype": "text/x-python",
   "name": "python",
   "nbconvert_exporter": "python",
   "pygments_lexer": "ipython3",
   "version": "3.8.5"
  }
 },
 "nbformat": 4,
 "nbformat_minor": 4
}
